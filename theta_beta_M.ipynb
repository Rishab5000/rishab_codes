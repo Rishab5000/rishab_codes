{
 "cells": [
  {
   "cell_type": "code",
   "execution_count": 1,
   "metadata": {},
   "outputs": [],
   "source": [
    "import numpy as np\n",
    "from scipy.integrate import odeint\n",
    "\n",
    "\n",
    "def temp_to_sos(T):\n",
    "    # Speed of sound in dry air given temperature in K\n",
    "    return 20.05 * T**0.5"
   ]
  },
  {
   "cell_type": "code",
   "execution_count": 2,
   "metadata": {},
   "outputs": [],
   "source": [
    "def oblique_shock1(theta, M1,gamma=1.4):\n",
    "    y = np.tan(theta)\n",
    "    for B in np.arange(1, 500) * np.pi/1000:\n",
    "        r = 2 / np.tan(B) * (M1**2 * np.sin(B)**2 - 1) / (M1**2 * (gamma + np.cos(2 * B)) + 2)\n",
    "        if r > y:\n",
    "            break\n",
    "    cot_a = np.tan(B) * ((gamma + 1) * M1 ** 2 / (2 * (M1 ** 2 * np.sin(B) ** 2 - 1)) - 1)\n",
    "    a = np.arctan(1 / cot_a) #a is deflection angle, B is beta1\n",
    "        \n",
    "\n",
    "    M2 = 1 / np.sin(B - theta) * np.sqrt((1 + (gamma - 1)/2 * M1**2 * np.sin(B)**2) / (gamma * M1**2 * np.sin(B)**2 - (gamma - 1)/2))\n",
    "\n",
    "    \n",
    "    return B,a, M2 #B is wave angle(beta-1) and is in radian"
   ]
  },
  {
   "cell_type": "code",
   "execution_count": 3,
   "metadata": {},
   "outputs": [],
   "source": [
    "def oblique_shock2(theta,M2,gamma=1.4):\n",
    "    y = np.tan(theta)\n",
    "    for B in np.arange(1, 500) * np.pi/1000:\n",
    "        r = 2 / np.tan(B) * (M2**2 * np.sin(B)**2 - 1) / (M2**2 * (gamma + np.cos(2 * B)) + 2)\n",
    "        if r > y:\n",
    "            break\n",
    "    cot_a = np.tan(B) * ((gamma + 1) * M2 ** 2 / (2 * (M2 ** 2 * np.sin(B) ** 2 - 1)) - 1)\n",
    "    a = np.arctan(1 / cot_a) \n",
    "    \n",
    "    M3 = 1 / np.sin(B - theta) * np.sqrt((1 + (gamma - 1)/2 * M2**2 * np.sin(B)**2) / (gamma * M2**2 * np.sin(B)**2 - (gamma - 1)/2))\n",
    "    \n",
    "    phi=(B)-(a)\n",
    "    print (phi,\"phi value\") \n",
    "   \n",
    "    \n",
    "    return B,a,M3 #B is beta2, a is deflection angle\n"
   ]
  },
  {
   "cell_type": "code",
   "execution_count": 5,
   "metadata": {},
   "outputs": [
    {
     "name": "stdout",
     "output_type": "stream",
     "text": [
      " length exceeds max allowable length of 5cm\n"
     ]
    },
    {
     "name": "stdin",
     "output_type": "stream",
     "text": [
      "enter (90-phi) value in radian 1.012\n"
     ]
    },
    {
     "name": "stdout",
     "output_type": "stream",
     "text": [
      "1.863694238152309 this is max height , above which shock will hit the wedge\n",
      "[3.965897435897436, 4.608717948717949, 4.32923076923077, 4.860256410256411, 4.720512820512821, 4.8043589743589745, 4.161538461538462]\n"
     ]
    },
    {
     "name": "stdin",
     "output_type": "stream",
     "text": [
      "Enter number of elements from base_lengths :  2\n",
      "\n",
      "Enter the numbers you want from base_lengths :  4.3 4.87\n"
     ]
    },
    {
     "name": "stdout",
     "output_type": "stream",
     "text": [
      "\n",
      "base lengths are -  [4.3, 4.87]\n"
     ]
    },
    {
     "name": "stdin",
     "output_type": "stream",
     "text": [
      "enter the deflection angle(theta) in radian 0.21\n"
     ]
    },
    {
     "name": "stdout",
     "output_type": "stream",
     "text": [
      "[0.9165125108453751, 1.038003704143483] are the possible heights for the wedge for which the shock does not reflect onto the wedge\n"
     ]
    }
   ],
   "source": [
    "#from previous results enter the b1 value in x and phi value in y\n",
    "import numpy as num\n",
    "\n",
    "x=2/(np.tan(0.644))\n",
    "y=2/(np.tan(0.591))\n",
    "l=x+y\n",
    "if l<5:\n",
    "    print(l,\"this is the max length possible for the wedge in cm\")\n",
    "else:\n",
    "    print(\" length exceeds max allowable length of 5cm\")\n",
    "    \n",
    "u=float(input(\"enter (90-phi) value in radian\"))\n",
    "hs=y/(np.tan(u))\n",
    "print(hs,\"this is max height , above which shock will hit the wedge\")\n",
    "\n",
    "import random\n",
    "import numpy as num\n",
    "base_lengths=random.sample(FRange(low=3.91, high=5,num_points=40), k=7)\n",
    "# low is the max length possible for the wedge\n",
    "# num_points has to be greater than k, which is the number of length values you want between low and high\n",
    "print(base_lengths) #in centimeters\n",
    "\n",
    "import numpy as np\n",
    "n = int(input(\"Enter number of elements from base_lengths : \")) \n",
    "  \n",
    "# Below line read inputs from user using map() function  \n",
    "a = list(map(float,input(\"\\nEnter the numbers you want from base_lengths : \").strip().split()))[:n]\n",
    "s=list(np.float_(a))\n",
    "      \n",
    "print(\"\\nbase lengths are - \", s) \n",
    "x=float(input(\"enter the deflection angle(theta) in radian\"))\n",
    "q= [i * np.tan(x) for i in s]\n",
    "print(q,\"are the possible heights for the wedge for which the shock does not reflect onto the wedge\")\n",
    "\n",
    "\n",
    "\n"
   ]
  },
  {
   "cell_type": "code",
   "execution_count": 4,
   "metadata": {},
   "outputs": [],
   "source": [
    "from __future__ import division\n",
    "from collections.abc import Sequence\n",
    "\n",
    "class FRange(Sequence):\n",
    "    def __init__(self, low, high, num_points):  #enter the minimum possible length and max allowable length\n",
    "        self.low = low\n",
    "        self.high = high\n",
    "        self.num_points = num_points      \n",
    "\n",
    "    def __len__(self):\n",
    "        return self.num_points\n",
    "\n",
    "    def __getitem__(self, index):\n",
    "        if index < 0:\n",
    "            index += len(self)\n",
    "        if index < 0 or index >= len(self):\n",
    "            raise IndexError('Out of range')\n",
    "        p = index / (self.num_points - 1)\n",
    "        return self.low * (1.0 - p) + self.high * p"
   ]
  },
  {
   "cell_type": "code",
   "execution_count": 31,
   "metadata": {},
   "outputs": [
    {
     "name": "stdout",
     "output_type": "stream",
     "text": [
      "[4.636666666666667, 4.552820512820513, 4.720512820512821, 4.8043589743589745, 4.021794871794873, 4.413076923076924, 3.965897435897436]\n"
     ]
    },
    {
     "name": "stdin",
     "output_type": "stream",
     "text": [
      "Enter number of elements from base_lengths :  2\n",
      "\n",
      "Enter the numbers you want from base_lengths :  4.6366 4.5528 \n"
     ]
    },
    {
     "name": "stdout",
     "output_type": "stream",
     "text": [
      "\n",
      "List is -  [4.6366, 4.5528]\n"
     ]
    },
    {
     "name": "stdin",
     "output_type": "stream",
     "text": [
      "enter the deflection angle(theta) in radian 0.26\n"
     ]
    },
    {
     "name": "stdout",
     "output_type": "stream",
     "text": [
      "[1.233435480368002, 1.2111428751713413]\n"
     ]
    }
   ],
   "source": []
  },
  {
   "cell_type": "code",
   "execution_count": 60,
   "metadata": {},
   "outputs": [
    {
     "data": {
      "text/plain": [
       "(0.6440264939859076, 0.2610831045692802, 1.8702911560078814)"
      ]
     },
     "execution_count": 60,
     "metadata": {},
     "output_type": "execute_result"
    }
   ],
   "source": [
    "oblique_shock1(0.26,2.5)\n"
   ]
  },
  {
   "cell_type": "code",
   "execution_count": 61,
   "metadata": {},
   "outputs": [
    {
     "name": "stdout",
     "output_type": "stream",
     "text": [
      "0.591023913563051 phi value\n"
     ]
    },
    {
     "data": {
      "text/plain": [
       "(0.8513716091228339, 0.260347695559783, 1.3218869061507765)"
      ]
     },
     "execution_count": 61,
     "metadata": {},
     "output_type": "execute_result"
    }
   ],
   "source": [
    "oblique_shock2(0.26,1.87)"
   ]
  },
  {
   "cell_type": "code",
   "execution_count": null,
   "metadata": {},
   "outputs": [],
   "source": []
  }
 ],
 "metadata": {
  "kernelspec": {
   "display_name": "Python 3",
   "language": "python",
   "name": "python3"
  },
  "language_info": {
   "codemirror_mode": {
    "name": "ipython",
    "version": 3
   },
   "file_extension": ".py",
   "mimetype": "text/x-python",
   "name": "python",
   "nbconvert_exporter": "python",
   "pygments_lexer": "ipython3",
   "version": "3.7.6"
  }
 },
 "nbformat": 4,
 "nbformat_minor": 4
}
